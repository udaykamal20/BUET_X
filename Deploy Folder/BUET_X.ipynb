{
 "cells": [
  {
   "cell_type": "code",
   "execution_count": 1,
   "metadata": {},
   "outputs": [
    {
     "data": {
      "application/javascript": [
       "\n",
       "require(['notebook/js/codecell'], function(codecell) {\n",
       "  codecell.CodeCell.options_default.highlight_modes[\n",
       "      'magic_text/x-csrc'] = {'reg':[/^%%microblaze/]};\n",
       "  Jupyter.notebook.events.one('kernel_ready.Kernel', function(){\n",
       "      Jupyter.notebook.get_cells().map(function(cell){\n",
       "          if (cell.cell_type == 'code'){ cell.auto_highlight(); } }) ;\n",
       "  });\n",
       "});\n"
      ]
     },
     "metadata": {},
     "output_type": "display_data"
    },
    {
     "name": "stdout",
     "output_type": "stream",
     "text": [
      "Allocating memory done\n",
      "Parameters loading done\n"
     ]
    }
   ],
   "source": [
    "#################### import all libraries and initializations ############\n",
    "\n",
    "import sys\n",
    "import numpy as np \n",
    "import os\n",
    "import time\n",
    "import math\n",
    "from PIL import Image\n",
    "import matplotlib.pylab as plt\n",
    "import cv2\n",
    "from datetime import datetime\n",
    "from pynq import Xlnk\n",
    "from pynq import Overlay\n",
    "from preprocessing import *\n",
    "import struct\n",
    "from pynq import MMIO\n",
    "import pynq\n",
    "\n",
    "team = 'BUET_X'\n",
    "agent = Agent(team)\n",
    "interval_time = 0\n",
    "\n",
    "xlnk = Xlnk()\n",
    "xlnk.xlnk_reset()\n",
    "\n",
    "img = xlnk.cma_array(shape=(3,178,322), dtype=np.uint8)\n",
    "\n",
    "conv_weight_1x1_all = xlnk.cma_array(shape=(186, 16, 16), dtype=np.uint16)\n",
    "conv_weight_3x3_all = xlnk.cma_array(shape=(7, 16, 3, 3), dtype=np.uint16) \n",
    "bias_all = xlnk.cma_array(shape=(16), dtype=np.uint16)\n",
    "\n",
    "DDR_pool_3_out = xlnk.cma_array(shape=(32, 90, 162), dtype=np.uint16)\n",
    "DDR_pool_6_out = xlnk.cma_array(shape=(64, 46, 82), dtype=np.uint16)\n",
    "DDR_buf = xlnk.cma_array(shape=(36, 16, 24, 42), dtype=np.uint16)\n",
    "\n",
    "predict_box = xlnk.cma_array(shape=(5,), dtype=np.float32)\n",
    "\n",
    "print(\"Allocating memory done\")\n",
    "\n",
    "img_path = '/home/xilinx/jupyter_notebooks/dac_2019_contest/images/'\n",
    "coord_path = '/home/xilinx/jupyter_notebooks/dac_2019_contest/result/coordinate/BUET_X/'\n",
    "\n",
    "tbatch = 0\n",
    "total_num_img = len(agent.img_list)\n",
    "result = list()\n",
    "agent.reset_batch_count()        \n",
    "        \n",
    "blank = Image.new('RGB', (322, 178), (127, 127, 127))\n",
    "\n",
    "# load parameters from SD card to DDR\n",
    "\n",
    "params = np.fromfile('/home/xilinx/jupyter_notebooks/dac_2019_contest/BUET_X/params/BUET_X.bin', dtype=np.uint16)\n",
    "\n",
    "idx = 0\n",
    "\n",
    "np.copyto(conv_weight_1x1_all, params[idx:idx+conv_weight_1x1_all.size].reshape(conv_weight_1x1_all.shape))\n",
    "idx += conv_weight_1x1_all.size\n",
    "\n",
    "np.copyto(conv_weight_3x3_all, params[idx:idx+conv_weight_3x3_all.size].reshape(conv_weight_3x3_all.shape))\n",
    "idx += conv_weight_3x3_all.size\n",
    "\n",
    "np.copyto(bias_all, params[idx:idx+bias_all.size].reshape(bias_all.shape))\n",
    "\n",
    "print(\"Parameters loading done\")\n"
   ]
  },
  {
   "cell_type": "code",
   "execution_count": 7,
   "metadata": {},
   "outputs": [
    {
     "name": "stderr",
     "output_type": "stream",
     "text": [
      "/usr/local/lib/python3.6/dist-packages/pynq/overlay.py:299: UserWarning: Users will not get PARAMETERS / REGISTERS information through TCL files. HWH file is recommended.\n",
      "  warnings.warn(message, UserWarning)\n"
     ]
    },
    {
     "name": "stdout",
     "output_type": "stream",
     "text": [
      "model_shift.bit loaded\n"
     ]
    }
   ],
   "source": [
    "################### download the overlay #####################\n",
    "overlay = Overlay('/home/xilinx/jupyter_notebooks/dac_2019_contest/BUET_X/overlay/BUET_X.bit')\n",
    "print(\"BUET_X.bit loaded\")\n",
    "myIP = overlay.model_shift_0"
   ]
  },
  {
   "cell_type": "code",
   "execution_count": 8,
   "metadata": {},
   "outputs": [
    {
     "name": "stdout",
     "output_type": "stream",
     "text": [
      "[312, 380, 261, 322]\n",
      "[399, 407, 247, 264]\n",
      "[310, 335, 202, 243]\n",
      "[272, 317, 100, 178]\n",
      "Processing time: 0.47536563873291016 seconds.\n",
      "Energy: 2.2681731905255997 J.\n",
      "All computation done\n"
     ]
    }
   ],
   "source": [
    "################## download weights and image resizing and processing\n",
    "myIP.write(0x10, img.physical_address)\n",
    "\n",
    "myIP.write(0x18, conv_weight_1x1_all.physical_address)\n",
    "myIP.write(0x20, conv_weight_3x3_all.physical_address)\n",
    "myIP.write(0x28, bias_all.physical_address)\n",
    "\n",
    "myIP.write(0x30, DDR_pool_3_out.physical_address)\n",
    "myIP.write(0x38, DDR_pool_6_out.physical_address)\n",
    "\n",
    "myIP.write(0x40, DDR_buf.physical_address)\n",
    "myIP.write(0x48, predict_box.physical_address)\n",
    "\n",
    "\n",
    "interval_time = 0\n",
    "total_time = 0\n",
    "total_num_img = len(agent.img_list)\n",
    "result = list()\n",
    "agent.reset_batch_count()\n",
    "rails = pynq.get_rails()\n",
    "\n",
    "first_image = True\n",
    "boxes = []\n",
    "names = []\n",
    "\n",
    "\n",
    "recorder = pynq.DataRecorder(rails['power1'].power)\n",
    "with recorder.record(0.01):  \n",
    "    for i in range(math.ceil(total_num_img/BATCH_SIZE)):\n",
    "        # get a batch from agent\n",
    "        batch = agent.send(interval_time, agent.img_batch)\n",
    "\n",
    "        for currPic in batch:\n",
    "            names.append(currPic)\n",
    "            # timer start when PS reading image\n",
    "            start = time.time()\n",
    "            if first_image:\n",
    "                    image = Image.open(img_path + currPic).convert('RGB')\n",
    "                    image = image.resize((320, 176))\n",
    "                    blank.paste(image, (1, 1))\n",
    "                    image = np.transpose(blank, (2, 0, 1))\n",
    "                    np.copyto(img, np.array(image))\n",
    "\n",
    "                    first_image = False\n",
    "                    continue\n",
    "\n",
    "            if not first_image:\n",
    "                myIP.write(0x00, 1)\n",
    "                time.sleep(0.07)\n",
    "                image = Image.open(img_path + currPic).convert('RGB')\n",
    "                image = image.resize((320, 176))\n",
    "                blank.paste(image, (1, 1))\n",
    "                image = np.transpose(blank, (2, 0, 1))\n",
    "                np.copyto(img, np.array(image))\n",
    "\n",
    "            isready = myIP.read(0x00)\n",
    "            while( isready == 1 ):\n",
    "                isready = myIP.read(0x00)\n",
    "\n",
    "            predict_box[0] = predict_box[0] / 40;\n",
    "            predict_box[1] = predict_box[1] / 22;\n",
    "            predict_box[2] = predict_box[2] / 40;\n",
    "            predict_box[3] = predict_box[3] / 22;\n",
    "            #print(predict_box)\n",
    "            x1 = int(round((predict_box[0] - predict_box[2]/2.0) * 640))\n",
    "            y1 = int(round((predict_box[1] - predict_box[3]/2.0) * 360))\n",
    "            x2 = int(round((predict_box[0] + predict_box[2]/2.0) * 640))\n",
    "            y2 = int(round((predict_box[1] + predict_box[3]/2.0) * 360))\n",
    "            boxes.append([x1, x2, y1, y2])\n",
    "            print([x1, x2, y1, y2])\n",
    "            end = time.time()\n",
    "            t = end - start\n",
    "            total_time += t\n",
    "\n",
    "\n",
    "    start = time.time()        \n",
    "    #collect result for last image\n",
    "    myIP.write(0x00, 1)\n",
    "    isready = myIP.read(0x00)\n",
    "    while( isready == 1 ):\n",
    "        isready = myIP.read(0x00)   \n",
    "\n",
    "    predict_box[0] = predict_box[0] / 40;\n",
    "    predict_box[1] = predict_box[1] / 22;\n",
    "    predict_box[2] = predict_box[2] / 40;\n",
    "    predict_box[3] = predict_box[3] / 22;\n",
    "\n",
    "    x1 = int(round((predict_box[0] - predict_box[2]/2.0) * 640))\n",
    "    y1 = int(round((predict_box[1] - predict_box[3]/2.0) * 360))\n",
    "    x2 = int(round((predict_box[0] + predict_box[2]/2.0) * 640))\n",
    "    y2 = int(round((predict_box[1] + predict_box[3]/2.0) * 360))\n",
    "    boxes.append([x1, x2, y1, y2])\n",
    "    print([x1, x2, y1, y2])\n",
    "    \n",
    "# timer stop after PS has processed all the batches\n",
    "    end = time.time()\n",
    "    t = end - start\n",
    "    total_time += t\n",
    "\n",
    "energy = recorder.frame[\"power1_power\"].mean() * total_time\n",
    "\n",
    "print('Processing time: {} seconds.'.format(total_time))\n",
    "print('Energy: {} J.'.format(energy))\n",
    "\n",
    "        \n",
    "print(\"All computation done\")"
   ]
  },
  {
   "cell_type": "code",
   "execution_count": 5,
   "metadata": {},
   "outputs": [
    {
     "name": "stdout",
     "output_type": "stream",
     "text": [
      "\n",
      "All results stored in BUET_X.txt\n",
      "XML results written successfully.\n"
     ]
    }
   ],
   "source": [
    "################ record the results and write to XML\n",
    "f_out = open(coord_path + '/BUET_X.txt', 'w')\n",
    "\n",
    "cnt = 0\n",
    "for box in boxes:\n",
    "    x1 = box[0]\n",
    "    x2 = box[1]\n",
    "    y1 = box[2]\n",
    "    y2 = box[3]\n",
    "    coord = str(x1) + ' ' + str(x2) + ' ' + str(y1) + ' ' + str(y2)\n",
    "    \n",
    "    name = names[cnt]\n",
    "    cnt = cnt + 1\n",
    "    f_out.write(name + '\\n')\n",
    "    f_out.write(coord + '\\n')\n",
    "        \n",
    "f_out.close()\n",
    "print(\"\\nAll results stored in BUET_X.txt\")\n",
    "\n",
    "agent.save_results_xml(boxes,total_time, energy)\n",
    "print(\"XML results written successfully.\")\n"
   ]
  },
  {
   "cell_type": "code",
   "execution_count": 29,
   "metadata": {},
   "outputs": [],
   "source": [
    "xlnk.xlnk_reset()"
   ]
  }
 ],
 "metadata": {
  "kernelspec": {
   "display_name": "Python 3",
   "language": "python",
   "name": "python3"
  },
  "language_info": {
   "codemirror_mode": {
    "name": "ipython",
    "version": 3
   },
   "file_extension": ".py",
   "mimetype": "text/x-python",
   "name": "python",
   "nbconvert_exporter": "python",
   "pygments_lexer": "ipython3",
   "version": "3.6.5"
  }
 },
 "nbformat": 4,
 "nbformat_minor": 2
}
